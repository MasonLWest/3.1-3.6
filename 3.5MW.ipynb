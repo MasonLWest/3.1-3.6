{
 "cells": [
  {
   "attachments": {},
   "cell_type": "markdown",
   "metadata": {},
   "source": [
    "mason west"
   ]
  },
  {
   "cell_type": "code",
   "execution_count": null,
   "metadata": {},
   "outputs": [],
   "source": [
    "initial_population = int(input(\"Enter the initial number of organisms: \"))\n",
    "growth_rate = float(input(\"Enter the rate of growth [a real number > 1]: \"))\n",
    "hours_to_achieve_growth_rate = int(input(\"Enter the number of hours to achieve the rate of growth: \"))\n",
    "total_growth_hours = int(input(\"Enter the total hours of growth: \"))\n",
    "\n",
    "num_periods = total_growth_hours // hours_to_achieve_growth_rate\n",
    "\n",
    "\n",
    "population = initial_population * (growth_rate ** num_periods)\n",
    "\n",
    "print(\"The total population is\", int(population))"
   ]
  }
 ],
 "metadata": {
  "language_info": {
   "name": "python"
  },
  "orig_nbformat": 4
 },
 "nbformat": 4,
 "nbformat_minor": 2
}
