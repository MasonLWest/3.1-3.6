{
 "cells": [
  {
   "cell_type": "code",
   "execution_count": null,
   "metadata": {},
   "outputs": [],
   "source": [
    "#Mason West"
   ]
  },
  {
   "cell_type": "code",
   "execution_count": null,
   "metadata": {},
   "outputs": [],
   "source": [
    "height = float(input('Enter the height from which the ball is dropped: '))\n",
    "\n",
    "bounci_index = float(input('Enter the bounciness index of the ball: '))\n",
    "\n",
    "bounces = int(input('Enter the number of times the ball is allowed to continue bouncing: '))\n",
    "\n",
    "distance = height\n",
    "\n",
    "for i in range(bounces-1):\n",
    "\n",
    "   height *= bounci_index\n",
    "\n",
    "   distance += 2*height\n",
    "\n",
    "distance += height*bounci_index\n",
    "\n",
    "print('\\nTotal distance traveled is: ' + str(distance) + ' units.')"
   ]
  }
 ],
 "metadata": {
  "language_info": {
   "name": "python"
  },
  "orig_nbformat": 4
 },
 "nbformat": 4,
 "nbformat_minor": 2
}
