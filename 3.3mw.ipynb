{
 "cells": [
  {
   "cell_type": "code",
   "execution_count": null,
   "metadata": {},
   "outputs": [],
   "source": [
    "# Mason West"
   ]
  },
  {
   "cell_type": "code",
   "execution_count": null,
   "metadata": {},
   "outputs": [],
   "source": [
    "import math\n",
    "\n",
    "\n",
    "print(\"Think of a number between two numbers.\")\n",
    "lower = int(input(\"Enter the smaller number: \"))\n",
    "upper = int(input(\"Enter the larger number: \"))\n",
    "\n",
    "\n",
    "max_guesses = math.ceil(math.log(upper - lower + 1, 2))\n",
    "\n",
    "\n",
    "guesses = 0\n",
    "while True:\n",
    "    guess = (lower + upper) // 2\n",
    "    print(lower, upper)\n",
    "    response = input(f\"Your number is {guess}\\nEnter =, <, or >: \")\n",
    "    guesses += 1\n",
    "    if response == \"=\":\n",
    "        print(f\"Hooray, I've got it in {guesses} tries!\")\n",
    "        break\n",
    "    elif response == \"<\":\n",
    "        upper = guess - 1\n",
    "    elif response == \">\":\n",
    "        lower = guess + 1\n",
    "    if guesses >= max_guesses:\n",
    "        print(\"I'm out of guesses, and you cheated!\")\n",
    "        break\n"
   ]
  }
 ],
 "metadata": {
  "language_info": {
   "name": "python"
  },
  "orig_nbformat": 4
 },
 "nbformat": 4,
 "nbformat_minor": 2
}
