{
 "cells": [
  {
   "attachments": {},
   "cell_type": "markdown",
   "metadata": {},
   "source": [
    "Mason West"
   ]
  },
  {
   "cell_type": "code",
   "execution_count": null,
   "metadata": {},
   "outputs": [],
   "source": [
    "\n",
    "num_iterations = int(input(\"Enter the number of iterations: \"))\n",
    "\n",
    "\n",
    "pi_approx = 0\n",
    "sign = 1\n",
    "\n",
    "\n",
    "for i in range(num_iterations):\n",
    "    term = sign / (2*i + 1)\n",
    "    pi_approx += term\n",
    "    sign *= -1\n",
    "\n",
    "pi_approx *= 4\n",
    "\n",
    "\n",
    "print(f\"The approximation of pi is {pi_approx}\")"
   ]
  }
 ],
 "metadata": {
  "language_info": {
   "name": "python"
  },
  "orig_nbformat": 4
 },
 "nbformat": 4,
 "nbformat_minor": 2
}
